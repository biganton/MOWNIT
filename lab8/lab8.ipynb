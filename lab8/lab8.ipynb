{
 "cells": [
  {
   "cell_type": "markdown",
   "metadata": {},
   "source": [
    " # <center>  LAB8 - Rozwiązywanie równań nieliniowych </center>\n",
    "# <center>  Gosztyła Mikołaj, Smółka Antoni </center> "
   ]
  },
  {
   "cell_type": "markdown",
   "metadata": {},
   "source": [
    "\n",
    "\n",
    "### Zadanie 1\n",
    "\n",
    "Dla poniższych funkcji i punktów początkowych metoda Newtona zawodzi. Wyjaśnij dlaczego. Następnie znajdź pierwiastki, modyfikując wywołanie funkcji `scipy.optimize.newton` lub używając innej metody.\n",
    "\n",
    "(a) $ f(x) = x^3 - 5x ,  x_0 = 1 $\n",
    "\n",
    "(b) $ f(x) = x^3 - 3x + 1 ,  x_0 = 1 $\n",
    "\n",
    "(c) $ f(x) = 2 - x^5 ,  x_0 = 0.01 $\n",
    "\n",
    "(d) $ f(x) = x^4 - 4.29x^2 - 5.29 $, $ x_0 = 0.8 $\n",
    "\n",
    "\n"
   ]
  },
  {
   "cell_type": "markdown",
   "metadata": {},
   "source": [
    "(a) $ f(x) = x^3 - 5x, x_0 = 1 $\n",
    "Wyjaśnienie zawodzenia:\n",
    "Metoda Newtona zawodzi, gdy pochodna funkcji w punkcie początkowym jest równa zero lub bardzo bliska zera, co może prowadzić do dużych skoków lub braku konwergencji. W tym przypadku, pochodna funkcji $f'(x) = 3x^2 - 5$. Dla $x_0 = 1$, $f'(1) = 3(1)^2 - 5 = -2$, co jest wartością znacznie różną od zera, więc przyczyna może leżeć gdzie indziej, na przykład w złożonym krajobrazie funkcji wokół punktu startowego.\n",
    "\n",
    "(b) $ f(x) = x^3 - 3x + 1, x_0 = 1 $\n",
    "Wyjaśnienie zawodzenia:\n",
    "Podobnie jak wyżej, sprawdzamy pochodną: $f'(x) = 3x^2 - 3$. Dla $x_0 = 1$, $f'(1) = 3(1)^2 - 3 = 0$. W tym przypadku, metoda zawodzi, ponieważ pochodna jest równa zero, co uniemożliwia wykonanie kolejnego kroku w metodzie Newtona (dzielenie przez zero).\n",
    "\n",
    "(c) $ f(x) = 2 - x^5, x_0 = 0.01 $\n",
    "Wyjaśnienie zawodzenia:\n",
    "Pochodna tej funkcji to $f'(x) = -5x^4$. Dla bardzo małego $x_0 = 0.01$, wartość $f'(0.01)$ jest bardzo bliska zeru ($f'(0.01) = -5(0.01)^4 = -0.0000005$), co sprawia, że metoda jest niestabilna i niekonwergentna.\n",
    "\n",
    "(d) $ f(x) = x^4 - 4.29x^2 - 5.29, x_0 = 0.8 $\n",
    "Wyjaśnienie zawodzenia:\n",
    "Pochodna funkcji wynosi $f'(x) = 4x^3 - 8.58x$. Dla $x_0 = 0.8$, $f'(0.8) = 4(0.8)^3 - 8.58(0.8) = 1.6384$. Zawodzenie może być spowodowane brakiem konwergencji w obszarze lokalnych minimów lub maksimów funkcji, które nie są pierwiastkami.\n",
    "\n",
    "\n",
    "Podpunkt bc i jest git, ale a i d to nie jestem pewien tych odpowiedzi."
   ]
  },
  {
   "cell_type": "code",
   "execution_count": 7,
   "metadata": {},
   "outputs": [
    {
     "name": "stdout",
     "output_type": "stream",
     "text": [
      "Pierwiastek funkcji a): 4.744493466790075e-24\n",
      "Pierwiastek funkcji b): 1.0000007188230098\n",
      "Pierwiastek funkcji c): 0.01\n",
      "Pierwiastek funkcji d): -0.7870232540616441\n"
     ]
    }
   ],
   "source": [
    "import scipy.optimize as opt\n",
    "\n",
    "# Definicje funkcji\n",
    "def func_a(x):\n",
    "    return x**3 - 5*x\n",
    "\n",
    "def func_b(x):\n",
    "    return x**3 - 3*x + 1\n",
    "\n",
    "def func_c(x):\n",
    "    return 2 - x**5\n",
    "\n",
    "def func_d(x):\n",
    "    return x**4 - 4.29*x**2 - 5.29\n",
    "\n",
    "def find_root(func, x0, method='newton'):\n",
    "    try:\n",
    "        # Próbujemy standardową metodę Newtona\n",
    "        root = opt.newton(func, x0)\n",
    "    except RuntimeError:\n",
    "        # Gdy metoda Newtona zawodzi, stosujemy metodę brentq, która wymaga podania zakresu\n",
    "        # Zakres dobieramy eksperymentalnie na podstawie wizualnej analizy funkcji\n",
    "        root = opt.brentq(func, x0 - 1, x0 + 1)\n",
    "    return root\n",
    "\n",
    "root_a = find_root(func_a, 1)\n",
    "root_b = find_root(func_b, 1)\n",
    "root_c = find_root(func_c, 0.01)\n",
    "root_d = find_root(func_d, 0.8)\n",
    "\n",
    "print(\"Pierwiastek funkcji a):\", root_a)\n",
    "print(\"Pierwiastek funkcji b):\", root_b)\n",
    "print(\"Pierwiastek funkcji c):\", root_c)\n",
    "print(\"Pierwiastek funkcji d):\", root_d)\n"
   ]
  },
  {
   "cell_type": "markdown",
   "metadata": {},
   "source": [
    "### Zadanie 2\n",
    "\n",
    "Dane jest równanie:\n",
    "\n",
    "$$ f(x) = x^2 - 3x + 2 = 0 $$ \n",
    "\n",
    "\n",
    "Każda z następujących funkcji definiuje równoważny schemat iteracyjny:\n",
    "\n",
    "$$ g_1(x) = \\frac{x^2 + 2}{3} $$\n",
    "\n",
    "$$ g_2(x) = \\sqrt{3x - 2}  $$\n",
    "\n",
    "$$ g_3(x) = 3 - \\frac{2}{x} $$\n",
    "\n",
    "$$ g_4(x) = \\frac{x^2 - 2}{2x - 3} $$\n",
    "\n",
    "(a) Przeanalizuj zbieżność oraz rząd zbieżności schematów iteracyjnych odpowiadających funkcjom $ g_i(x) $ dla pierwiastka $ x = 2 $ badając wartość $ |g'_i(2)| $.\n",
    "\n",
    "(b) Potwierdź analizę teoretyczną implementując powyższe schematy iteracyjne i weryfikując ich zbieżność (lub brak). Każdy schemat iteracyjny wykonaj przez 10 iteracji.\n",
    "\n",
    "Wyznacz eksprymentalnie rząd zbieżności każdej metody iteracyjnej ze wzoru:\n",
    "\n",
    "$ r = \\frac{\\ln \\left(\\frac{\\epsilon_k}{\\epsilon_{k+1}}\\right)}{\\ln \\left(\\frac{\\epsilon_{k-1}}{\\epsilon_k}\\right)} $ \n",
    "\n",
    "gdzie błąd bezwzględny $\\epsilon_k $ definiujemy jako $ \\epsilon_k = |x_k - x^*|$ , $ x_k $ jest przybliżeniem pierwiastka w k-tej iteracji, a $x^* $ dokładnym położeniem pierwiastka równania.\n",
    "\n",
    "(c) Na wspólnym rysunku przedstaw wykresy błędu względnego każdej metody w zależności od numeru iteracji. Użyj skali logarytmicznej na osi y (pomocna będzie funkcja `semilogy`).\n",
    "\n",
    "Stwórz drugi rysunek, przedstawiający wykresy błędu względnego tylko dla metod zbieżnych.\n",
    "\n",
    "\n",
    "\n"
   ]
  },
  {
   "cell_type": "markdown",
   "metadata": {},
   "source": [
    "\n",
    "\n",
    "### Zadanie 3\n",
    "\n",
    "Napisz schemat iteracji wg metody Newtona dla każdego z następujących równań nieliniowych:\n",
    "\n",
    "(a) $ x^3 - 2x - 5 = 0 $\n",
    "\n",
    "(b) $ e^{-x} = x $\n",
    "\n",
    "(c) $ x \\sin(x) = 1 $.\n",
    "\n",
    "Jeśli $ x_0 $ jest przybliżeniem pierwiastka z dokładnością 4 bitów, ile iteracji należy wykonać aby osiągnąć:\n",
    "\n",
    "- 24-bitową dokładność\n",
    "- 53-bitową dokładność?\n",
    "\n"
   ]
  },
  {
   "cell_type": "markdown",
   "metadata": {},
   "source": []
  },
  {
   "cell_type": "code",
   "execution_count": 6,
   "metadata": {},
   "outputs": [
    {
     "name": "stdout",
     "output_type": "stream",
     "text": [
      "Root a: 2.0945514815423265 Iterations: 9\n",
      "Root b: 0.5671432904097838 Iterations: 4\n",
      "Root c: 1.1141571408719302 Iterations: 100\n"
     ]
    }
   ],
   "source": [
    "import math\n",
    "\n",
    "def newton_method(f, df, x0, epsilon, max_iter):\n",
    "    x = x0\n",
    "    for n in range(max_iter):\n",
    "        fx = f(x)\n",
    "        dfx = df(x)\n",
    "        if abs(dfx) < epsilon:  # Aby uniknąć dzielenia przez zero\n",
    "            print(\"Derivative too small.\")\n",
    "            break\n",
    "        x_new = x - fx / dfx\n",
    "        if abs(x_new - x) < epsilon:  # Sprawdzenie zbieżności\n",
    "            return x_new, n\n",
    "        x = x_new\n",
    "    return x, max_iter\n",
    "\n",
    "\n",
    "def f_a(x):\n",
    "    return x**3 - 2*x - 5\n",
    "\n",
    "def df_a(x):\n",
    "    return 3*x**2 - 2\n",
    "\n",
    "def f_b(x):\n",
    "    return math.exp(-x) - x\n",
    "\n",
    "def df_b(x):\n",
    "    return -math.exp(-x) - 1\n",
    "\n",
    "def f_c(x):\n",
    "    return x * math.sin(x) - 1\n",
    "\n",
    "def df_c(x):\n",
    "    return math.sin(x) + x * math.cos(x)\n",
    "\n",
    "x0 = 1  \n",
    "epsilon = 2**-54\n",
    "max_iter = 100  \n",
    "\n",
    "root_a, iterations_a = newton_method(f_a, df_a, x0, epsilon, max_iter)\n",
    "print(\"Root a:\", root_a, \"Iterations:\", iterations_a)\n",
    "\n",
    "root_b, iterations_b = newton_method(f_b, df_b, x0, epsilon, max_iter)\n",
    "print(\"Root b:\", root_b, \"Iterations:\", iterations_b)\n",
    "\n",
    "root_c, iterations_c = newton_method(f_c, df_c, x0, epsilon, max_iter)\n",
    "print(\"Root c:\", root_c, \"Iterations:\", iterations_c)\n"
   ]
  },
  {
   "cell_type": "markdown",
   "metadata": {},
   "source": [
    "### Zadanie 4\n",
    "\n",
    "Napisz schemat iteracji wg metody Newtona dla następującego układu równań nieliniowych:\n",
    "\n",
    "$$ x_1^2 + x_2^2 = 1 $$\n",
    "$$ x_1^2 - x_2 = 0 $$\n",
    "\n",
    "Korzystając z faktu, że dokładne rozwiązanie powyższego układu równań to:\n",
    "\n",
    "$ x_1 = \\pm \\sqrt{\\frac{\\sqrt{5}}{2} - \\frac{1}{2}} $\n",
    "\n",
    "$ x_2 = \\frac{\\sqrt{5}}{2} - \\frac{1}{2} $\n",
    "\n",
    "oblicz błąd względny rozwiązania znalezionego metodą Newtona.\n",
    "\n"
   ]
  },
  {
   "cell_type": "code",
   "execution_count": null,
   "metadata": {},
   "outputs": [],
   "source": []
  },
  {
   "cell_type": "markdown",
   "metadata": {},
   "source": []
  }
 ],
 "metadata": {
  "kernelspec": {
   "display_name": "Python 3 (ipykernel)",
   "language": "python",
   "name": "python3"
  },
  "language_info": {
   "codemirror_mode": {
    "name": "ipython",
    "version": 3
   },
   "file_extension": ".py",
   "mimetype": "text/x-python",
   "name": "python",
   "nbconvert_exporter": "python",
   "pygments_lexer": "ipython3",
   "version": "3.12.1"
  }
 },
 "nbformat": 4,
 "nbformat_minor": 4
}
