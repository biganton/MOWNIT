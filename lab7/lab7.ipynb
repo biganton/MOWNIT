{
 "cells": [
  {
   "cell_type": "markdown",
   "metadata": {},
   "source": [
    " # <center>  LAB7 - Kwadratury adaptacyjne </center>\n",
    "# <center>  Gosztyła Mikołaj, Smółka Antoni </center> "
   ]
  },
  {
   "cell_type": "markdown",
   "metadata": {},
   "source": [
    "# Kwadratury adaptacyjne\n",
    "\n",
    "## Zadanie 1\n",
    "Oblicz wartość całki z poprzedniego laboratorium:\n",
    "\n",
    "$$ \\int_0^1 \\frac{4}{1 + x^2} \\, dx, $$\n",
    "\n",
    "korzystając z:\n",
    "- (a) kwadratur adaptacyjnych trapezów,\n",
    "- (b) kwadratur adaptacyjnych Gaussa-Kronroda.\n",
    "\n",
    "Dla każdej metody narysuj wykres wartości bezwzględnej błędu względnego w zależności od liczby ewaluacji funkcji podcałkowej. Wyniki dodaj do wykresu uzyskanego w poprzednim laboratorium. Przydatna będzie funkcja `scipy.integrate.quad_vec`. Na liczbę ewaluacji funkcji podcałkowej można wpływać pośrednio, zmieniając wartość dopuszczalnego błędu (tolerancji). Przyjmij wartości tolerancji z zakresu od 100 do \\(10^{-14}\\). Liczba ewalulacji funkcji podcałkowej zwracana jest w zmiennej `info['neval']`.\n",
    "\n",
    "## Zadanie 2\n",
    "Powtórz obliczenia z poprzedniego oraz dzisiejszego laboratorium dla całek:\n",
    "\n",
    "- (a) $$ \\int_0^1 \\sqrt{x \\log x} \\, dx = -\\frac{4}{9}, $$\n",
    "- (b) $$ \\int_0^1 \\left(\\frac{1}{(x-0.3)^2 + a} + \\frac{1}{(x-0.9)^2 + b} - 6\\right) \\, dx, $$\n",
    "\n",
    "We wzorze (b) przyjmij \\( a = 0.001 \\) oraz \\( b = 0.004 \\). Błąd kwadratury dla całki (b) oblicz, wykorzystując fakt, że:\n",
    "\n",
    "$$ \\int_0^1 \\frac{1}{(x-x0)^2 + a} \\, dx = \\frac{1}{\\sqrt{a}} \\left( \\arctan \\left(\\frac{1-x0}{\\sqrt{a}}\\right) + \\arctan \\left(\\frac{x0}{\\sqrt{a}}\\right) \\right), $$\n",
    "\n"
   ]
  }
 ],
 "metadata": {
  "kernelspec": {
   "display_name": "Python (MOWNIT)",
   "language": "python",
   "name": "mownit_venv"
  },
  "language_info": {
   "name": "python",
   "version": "3.12.2"
  }
 },
 "nbformat": 4,
 "nbformat_minor": 2
}
